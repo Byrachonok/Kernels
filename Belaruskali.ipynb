{
 "cells": [
  {
   "cell_type": "code",
   "execution_count": 1,
   "metadata": {},
   "outputs": [],
   "source": [
    "import time, random, sys, re\n",
    "import socket\n",
    "import urllib.request\n",
    "\n",
    "import seaborn as sns; \n",
    "sns.set(style=\"darkgrid\")\n",
    "\n",
    "import pandas as pd\n",
    "from bs4 import BeautifulSoup\n",
    "import matplotlib.pyplot as plt"
   ]
  },
  {
   "cell_type": "markdown",
   "metadata": {},
   "source": [
    "ЗАГРУЗКА ДАННЫХ\n",
    "---"
   ]
  },
  {
   "cell_type": "code",
   "execution_count": 2,
   "metadata": {},
   "outputs": [],
   "source": [
    "class ad:\n",
    "    _block = None\n",
    "    _type = None\n",
    "    _data_publication = None\n",
    "    _text = None\n",
    "    _data_dedline = None\n",
    "    _name_documents = None\n",
    "    \n",
    "    def __init__(self, html_block, time_sleep=1):\n",
    "        self._block = html_block\n",
    "        self._time_sleep = time_sleep\n",
    "\n",
    "    @property\n",
    "    def type_ad(self):\n",
    "        if not self._type:\n",
    "            try:\n",
    "                self._type = self._block.find_all('td')[0].string\n",
    "            except ValueError:\n",
    "                pass\n",
    "            except IndexError:\n",
    "                pass\n",
    "        return self._type\n",
    "    \n",
    "    @property\n",
    "    def data_publication(self):\n",
    "        if not self._data_publication:\n",
    "            try:\n",
    "                self._data_publication = {}\n",
    "                self._data_publication['mount'] = self._block.find_all('td')[1].contents[1].lstrip()\n",
    "                self._data_publication['number'] = int(self._block.find_all('td')[1].find('strong').string)\n",
    "            except ValueError:\n",
    "                pass\n",
    "            except IndexError:\n",
    "                pass\n",
    "        return self._data_publication\n",
    "\n",
    "    @property\n",
    "    def text(self):\n",
    "        if not self._text:\n",
    "            try:\n",
    "                self._text = self._block.find_all('td')[2].string\n",
    "            except ValueError:\n",
    "                pass\n",
    "            except IndexError:\n",
    "                pass\n",
    "        return self._text\n",
    "\n",
    "    @property\n",
    "    def data_dedline(self):\n",
    "        if not self._data_dedline:\n",
    "            try:\n",
    "                date = self._block.find_all('td')[3].string\n",
    "                result = re.search(r'(\\d+.\\d+.\\d+)', date)\n",
    "                self._data_dedline = result.group()\n",
    "            except ValueError:\n",
    "                pass\n",
    "            except IndexError:\n",
    "                pass\n",
    "            except AttributeError:\n",
    "                pass\n",
    "        return self._data_dedline \n",
    "\n",
    "    @property\n",
    "    def name_documents(self):\n",
    "        if not self._name_documents:\n",
    "            try:\n",
    "                self._name_documents = self._block.find_all('td')[4].find_all('a')\n",
    "            except ValueError:\n",
    "                pass\n",
    "            except IndexError:\n",
    "                pass\n",
    "        return self._name_documents"
   ]
  },
  {
   "cell_type": "code",
   "execution_count": 3,
   "metadata": {},
   "outputs": [
    {
     "name": "stdout",
     "output_type": "stream",
     "text": [
      "загружено 100.0%   CPU times: user 23.9 s, sys: 880 ms, total: 24.8 s\n",
      "Wall time: 1min 2s\n"
     ]
    }
   ],
   "source": [
    "%%time\n",
    "\n",
    "ad_list = []\n",
    "n_pages = 200\n",
    "for i_page in range(n_pages):\n",
    "    url = 'http://kali.by/tenders/?PAGEN_1={0}'.format(i_page)\n",
    "    page = urllib.request.urlopen(url).read().decode('utf-8')\n",
    "    main_soup = BeautifulSoup(page, \"html.parser\")\n",
    "    \n",
    "    for b in main_soup.find_all('tr'):\n",
    "        try:\n",
    "            t = ad(b)\n",
    "            ad_list.append(t)\n",
    "        except IndexError:\n",
    "            pass\n",
    "    time.sleep(0.1) # распределение нагрузки на сайt\n",
    "    sys.stdout.write('\\rзагружено {0:.4}%   '.format((i_page+1)/n_pages*100))"
   ]
  },
  {
   "cell_type": "code",
   "execution_count": 4,
   "metadata": {},
   "outputs": [
    {
     "data": {
      "text/html": [
       "<div>\n",
       "<style scoped>\n",
       "    .dataframe tbody tr th:only-of-type {\n",
       "        vertical-align: middle;\n",
       "    }\n",
       "\n",
       "    .dataframe tbody tr th {\n",
       "        vertical-align: top;\n",
       "    }\n",
       "\n",
       "    .dataframe thead th {\n",
       "        text-align: right;\n",
       "    }\n",
       "</style>\n",
       "<table border=\"1\" class=\"dataframe\">\n",
       "  <thead>\n",
       "    <tr style=\"text-align: right;\">\n",
       "      <th></th>\n",
       "      <th>text</th>\n",
       "      <th>data_dedline</th>\n",
       "      <th>type</th>\n",
       "    </tr>\n",
       "  </thead>\n",
       "  <tbody>\n",
       "    <tr>\n",
       "      <th>1</th>\n",
       "      <td>Инклинометр двухосевой</td>\n",
       "      <td>12.02.2018</td>\n",
       "      <td>Изучение конъюнктуры рынка</td>\n",
       "    </tr>\n",
       "    <tr>\n",
       "      <th>2</th>\n",
       "      <td>Закупка запасных частей к электрическим плитам</td>\n",
       "      <td>14.02.2018</td>\n",
       "      <td>Изучение конъюнктуры рынка</td>\n",
       "    </tr>\n",
       "    <tr>\n",
       "      <th>3</th>\n",
       "      <td>Закупка компрессора Embraco</td>\n",
       "      <td>14.02.2018</td>\n",
       "      <td>Изучение конъюнктуры рынка</td>\n",
       "    </tr>\n",
       "    <tr>\n",
       "      <th>4</th>\n",
       "      <td>Силовые полупроводниковые приборы (диоды, тири...</td>\n",
       "      <td>23.02.2018</td>\n",
       "      <td>Оформление конкурентного листа</td>\n",
       "    </tr>\n",
       "    <tr>\n",
       "      <th>5</th>\n",
       "      <td>Закупка нестандартного оборудования</td>\n",
       "      <td>11-00 07</td>\n",
       "      <td>Открытый конкурс</td>\n",
       "    </tr>\n",
       "    <tr>\n",
       "      <th>6</th>\n",
       "      <td>Запасные части для ГТУ</td>\n",
       "      <td>12.02.2018</td>\n",
       "      <td>Оформление конкурентного листа</td>\n",
       "    </tr>\n",
       "    <tr>\n",
       "      <th>7</th>\n",
       "      <td>Закупка ванны моечной</td>\n",
       "      <td>13.02.2018</td>\n",
       "      <td>Переговоры</td>\n",
       "    </tr>\n",
       "    <tr>\n",
       "      <th>8</th>\n",
       "      <td>Пластинчатый сгуститель ти-па LTC-3450-18F (ил...</td>\n",
       "      <td>13.03.2018</td>\n",
       "      <td>Торги</td>\n",
       "    </tr>\n",
       "    <tr>\n",
       "      <th>9</th>\n",
       "      <td>Запасные части для теплообменника Sondex A/S</td>\n",
       "      <td>12.02.2018</td>\n",
       "      <td>Изучение конъюнктуры рынка</td>\n",
       "    </tr>\n",
       "    <tr>\n",
       "      <th>10</th>\n",
       "      <td>Сигнализаторы и аварийные выключатели с тросов...</td>\n",
       "      <td>08.02.2018</td>\n",
       "      <td>Изучение конъюнктуры рынка</td>\n",
       "    </tr>\n",
       "    <tr>\n",
       "      <th>13</th>\n",
       "      <td>комплекты пластин</td>\n",
       "      <td>16.02.2018</td>\n",
       "      <td>Изучение конъюнктуры рынка</td>\n",
       "    </tr>\n",
       "    <tr>\n",
       "      <th>14</th>\n",
       "      <td>перчатки рабочие</td>\n",
       "      <td>16.02.2018</td>\n",
       "      <td>Запрос ценовых предложений</td>\n",
       "    </tr>\n",
       "    <tr>\n",
       "      <th>15</th>\n",
       "      <td>комплекты пластин</td>\n",
       "      <td>16.02.2018</td>\n",
       "      <td>Изучение конъюнктуры рынка</td>\n",
       "    </tr>\n",
       "    <tr>\n",
       "      <th>16</th>\n",
       "      <td>сухие строительные смеси</td>\n",
       "      <td>12.02.2018</td>\n",
       "      <td>Оформление конкурентного листа</td>\n",
       "    </tr>\n",
       "    <tr>\n",
       "      <th>17</th>\n",
       "      <td>Лакокрасочная продукция</td>\n",
       "      <td>12.02.2018</td>\n",
       "      <td>Запрос ценовых предложений</td>\n",
       "    </tr>\n",
       "    <tr>\n",
       "      <th>18</th>\n",
       "      <td>компьютерно-кассовая система</td>\n",
       "      <td>16.02.2018</td>\n",
       "      <td>Изучение конъюнктуры рынка</td>\n",
       "    </tr>\n",
       "    <tr>\n",
       "      <th>19</th>\n",
       "      <td>Закупка отбойных молотков, пик к отбойным моло...</td>\n",
       "      <td>19.02.2018</td>\n",
       "      <td>Оформление конкурентного листа</td>\n",
       "    </tr>\n",
       "    <tr>\n",
       "      <th>20</th>\n",
       "      <td>Карбонат калия К2СО3</td>\n",
       "      <td>13.02.2018</td>\n",
       "      <td>Запрос ценовых предложений</td>\n",
       "    </tr>\n",
       "    <tr>\n",
       "      <th>22</th>\n",
       "      <td>Инклинометр двухосевой</td>\n",
       "      <td>12.02.2018</td>\n",
       "      <td>Изучение конъюнктуры рынка</td>\n",
       "    </tr>\n",
       "    <tr>\n",
       "      <th>23</th>\n",
       "      <td>Закупка запасных частей к электрическим плитам</td>\n",
       "      <td>14.02.2018</td>\n",
       "      <td>Изучение конъюнктуры рынка</td>\n",
       "    </tr>\n",
       "    <tr>\n",
       "      <th>24</th>\n",
       "      <td>Закупка компрессора Embraco</td>\n",
       "      <td>14.02.2018</td>\n",
       "      <td>Изучение конъюнктуры рынка</td>\n",
       "    </tr>\n",
       "    <tr>\n",
       "      <th>25</th>\n",
       "      <td>Силовые полупроводниковые приборы (диоды, тири...</td>\n",
       "      <td>23.02.2018</td>\n",
       "      <td>Оформление конкурентного листа</td>\n",
       "    </tr>\n",
       "    <tr>\n",
       "      <th>26</th>\n",
       "      <td>Закупка нестандартного оборудования</td>\n",
       "      <td>11-00 07</td>\n",
       "      <td>Открытый конкурс</td>\n",
       "    </tr>\n",
       "    <tr>\n",
       "      <th>27</th>\n",
       "      <td>Запасные части для ГТУ</td>\n",
       "      <td>12.02.2018</td>\n",
       "      <td>Оформление конкурентного листа</td>\n",
       "    </tr>\n",
       "    <tr>\n",
       "      <th>28</th>\n",
       "      <td>Закупка ванны моечной</td>\n",
       "      <td>13.02.2018</td>\n",
       "      <td>Переговоры</td>\n",
       "    </tr>\n",
       "    <tr>\n",
       "      <th>29</th>\n",
       "      <td>Пластинчатый сгуститель ти-па LTC-3450-18F (ил...</td>\n",
       "      <td>13.03.2018</td>\n",
       "      <td>Торги</td>\n",
       "    </tr>\n",
       "    <tr>\n",
       "      <th>30</th>\n",
       "      <td>Запасные части для теплообменника Sondex A/S</td>\n",
       "      <td>12.02.2018</td>\n",
       "      <td>Изучение конъюнктуры рынка</td>\n",
       "    </tr>\n",
       "    <tr>\n",
       "      <th>31</th>\n",
       "      <td>Сигнализаторы и аварийные выключатели с тросов...</td>\n",
       "      <td>08.02.2018</td>\n",
       "      <td>Изучение конъюнктуры рынка</td>\n",
       "    </tr>\n",
       "    <tr>\n",
       "      <th>34</th>\n",
       "      <td>комплекты пластин</td>\n",
       "      <td>16.02.2018</td>\n",
       "      <td>Изучение конъюнктуры рынка</td>\n",
       "    </tr>\n",
       "    <tr>\n",
       "      <th>35</th>\n",
       "      <td>перчатки рабочие</td>\n",
       "      <td>16.02.2018</td>\n",
       "      <td>Запрос ценовых предложений</td>\n",
       "    </tr>\n",
       "    <tr>\n",
       "      <th>...</th>\n",
       "      <td>...</td>\n",
       "      <td>...</td>\n",
       "      <td>...</td>\n",
       "    </tr>\n",
       "    <tr>\n",
       "      <th>4168</th>\n",
       "      <td>гидроциклонные установки</td>\n",
       "      <td>03.03.2015</td>\n",
       "      <td>Торги</td>\n",
       "    </tr>\n",
       "    <tr>\n",
       "      <th>4169</th>\n",
       "      <td>гидроциклонные установки</td>\n",
       "      <td>03.03.2015</td>\n",
       "      <td>Торги</td>\n",
       "    </tr>\n",
       "    <tr>\n",
       "      <th>4170</th>\n",
       "      <td>гидроциклонные установки</td>\n",
       "      <td>03.03.2015</td>\n",
       "      <td>Переговоры</td>\n",
       "    </tr>\n",
       "    <tr>\n",
       "      <th>4171</th>\n",
       "      <td>Краны шаровые с электроприводом Ду-300 Ру-16 МПа</td>\n",
       "      <td>18.02.2015</td>\n",
       "      <td>Переговоры</td>\n",
       "    </tr>\n",
       "    <tr>\n",
       "      <th>4172</th>\n",
       "      <td>Удобрение нитрат калия с антислеживателем  (со...</td>\n",
       "      <td>23.02.2015</td>\n",
       "      <td>Оформление конкурентного листа</td>\n",
       "    </tr>\n",
       "    <tr>\n",
       "      <th>4173</th>\n",
       "      <td>Запрос ценовых предложений</td>\n",
       "      <td>11.03.2015</td>\n",
       "      <td>Переговоры</td>\n",
       "    </tr>\n",
       "    <tr>\n",
       "      <th>4174</th>\n",
       "      <td>Весы аналитические электронные</td>\n",
       "      <td>26.02.2015</td>\n",
       "      <td>Переговоры</td>\n",
       "    </tr>\n",
       "    <tr>\n",
       "      <th>4175</th>\n",
       "      <td>Запчасти к станку ленточно-отрезному MEBA 335 ...</td>\n",
       "      <td>20.02.2015</td>\n",
       "      <td>Изучение конъюнктуры рынка</td>\n",
       "    </tr>\n",
       "    <tr>\n",
       "      <th>4176</th>\n",
       "      <td>Заправка автотранспорта п электронным картам</td>\n",
       "      <td>26.02.2015</td>\n",
       "      <td>Запрос ценовых предложений</td>\n",
       "    </tr>\n",
       "    <tr>\n",
       "      <th>4177</th>\n",
       "      <td>Охладитель конденсата (подувочной воды) ОГ-35 ...</td>\n",
       "      <td>27.02.2015</td>\n",
       "      <td>Оформление конкурентного листа</td>\n",
       "    </tr>\n",
       "    <tr>\n",
       "      <th>4178</th>\n",
       "      <td>Закупка запасных частей (силовой гидравлики) д...</td>\n",
       "      <td>09.03.2015</td>\n",
       "      <td>Открытый конкурс</td>\n",
       "    </tr>\n",
       "    <tr>\n",
       "      <th>4180</th>\n",
       "      <td>Аппарат с перемешивающим устройством</td>\n",
       "      <td>20.02.2015</td>\n",
       "      <td>Переговоры</td>\n",
       "    </tr>\n",
       "    <tr>\n",
       "      <th>4181</th>\n",
       "      <td>Подшипники по ГОСТ</td>\n",
       "      <td>09.03.2015</td>\n",
       "      <td>Открытый конкурс</td>\n",
       "    </tr>\n",
       "    <tr>\n",
       "      <th>4182</th>\n",
       "      <td>Агрегаты перекачки промышленного продукта</td>\n",
       "      <td>10.03.2015</td>\n",
       "      <td>Открытый конкурс</td>\n",
       "    </tr>\n",
       "    <tr>\n",
       "      <th>4183</th>\n",
       "      <td>Закупка запчастей к гидроциклонам СВП-710, СВП...</td>\n",
       "      <td>24.02.2015</td>\n",
       "      <td>Запрос ценовых предложений</td>\n",
       "    </tr>\n",
       "    <tr>\n",
       "      <th>4184</th>\n",
       "      <td>Запасные части для компрессора Aylas Copco</td>\n",
       "      <td>24.02.2015</td>\n",
       "      <td>Запрос ценовых предложений</td>\n",
       "    </tr>\n",
       "    <tr>\n",
       "      <th>4185</th>\n",
       "      <td>Закупка пневмоэжекторной флотомашины</td>\n",
       "      <td>02.03.2015</td>\n",
       "      <td>Торги</td>\n",
       "    </tr>\n",
       "    <tr>\n",
       "      <th>4186</th>\n",
       "      <td>Подшипники</td>\n",
       "      <td>23.02.2015</td>\n",
       "      <td>Запрос ценовых предложений</td>\n",
       "    </tr>\n",
       "    <tr>\n",
       "      <th>4187</th>\n",
       "      <td>газообразная продукция</td>\n",
       "      <td>23.02.2015</td>\n",
       "      <td>Запрос ценовых предложений</td>\n",
       "    </tr>\n",
       "    <tr>\n",
       "      <th>4188</th>\n",
       "      <td>Агрегаты насосные центробежные</td>\n",
       "      <td>23.02.2015</td>\n",
       "      <td>Запрос ценовых предложений</td>\n",
       "    </tr>\n",
       "    <tr>\n",
       "      <th>4189</th>\n",
       "      <td>ёмкостей для перевозки негорючих жидкостей V=1...</td>\n",
       "      <td>26.02.2015</td>\n",
       "      <td>Запрос ценовых предложений</td>\n",
       "    </tr>\n",
       "    <tr>\n",
       "      <th>4190</th>\n",
       "      <td>на закупку аппаратов для испытания изоляции си...</td>\n",
       "      <td>24.02.2015</td>\n",
       "      <td>Запрос ценовых предложений</td>\n",
       "    </tr>\n",
       "    <tr>\n",
       "      <th>4191</th>\n",
       "      <td>насосные агрегаты</td>\n",
       "      <td>20.02.2015</td>\n",
       "      <td>Переговоры</td>\n",
       "    </tr>\n",
       "    <tr>\n",
       "      <th>4192</th>\n",
       "      <td>Оборудование для технологической обработки дет...</td>\n",
       "      <td>05.03.2015</td>\n",
       "      <td>Открытый конкурс</td>\n",
       "    </tr>\n",
       "    <tr>\n",
       "      <th>4193</th>\n",
       "      <td>Барометрические конденсаторы</td>\n",
       "      <td>03.03.2015</td>\n",
       "      <td>Запрос ценовых предложений</td>\n",
       "    </tr>\n",
       "    <tr>\n",
       "      <th>4194</th>\n",
       "      <td>продукция электротехнического назначения</td>\n",
       "      <td>23.02.2015</td>\n",
       "      <td>Оформление конкурентного листа</td>\n",
       "    </tr>\n",
       "    <tr>\n",
       "      <th>4195</th>\n",
       "      <td>Съемники механическихе</td>\n",
       "      <td>17.02.2015</td>\n",
       "      <td>Оформление конкурентного листа</td>\n",
       "    </tr>\n",
       "    <tr>\n",
       "      <th>4197</th>\n",
       "      <td>Агрегаты насосные химические</td>\n",
       "      <td>20.02.2015</td>\n",
       "      <td>Запрос ценовых предложений</td>\n",
       "    </tr>\n",
       "    <tr>\n",
       "      <th>4198</th>\n",
       "      <td>Мебель офисная</td>\n",
       "      <td>16.02.2015</td>\n",
       "      <td>Оформление конкурентного листа</td>\n",
       "    </tr>\n",
       "    <tr>\n",
       "      <th>4199</th>\n",
       "      <td>Агрегаты насосные ГРАТ 225/67 или аналоги</td>\n",
       "      <td>16.02.2015</td>\n",
       "      <td>Переговоры</td>\n",
       "    </tr>\n",
       "  </tbody>\n",
       "</table>\n",
       "<p>3758 rows × 3 columns</p>\n",
       "</div>"
      ],
      "text/plain": [
       "                                                   text data_dedline  \\\n",
       "1                                Инклинометр двухосевой   12.02.2018   \n",
       "2        Закупка запасных частей к электрическим плитам   14.02.2018   \n",
       "3                          Закупка компрессора Embraco    14.02.2018   \n",
       "4     Силовые полупроводниковые приборы (диоды, тири...   23.02.2018   \n",
       "5                   Закупка нестандартного оборудования     11-00 07   \n",
       "6                                Запасные части для ГТУ   12.02.2018   \n",
       "7                                 Закупка ванны моечной   13.02.2018   \n",
       "8     Пластинчатый сгуститель ти-па LTC-3450-18F (ил...   13.03.2018   \n",
       "9          Запасные части для теплообменника Sondex A/S   12.02.2018   \n",
       "10    Сигнализаторы и аварийные выключатели с тросов...   08.02.2018   \n",
       "13                                    комплекты пластин   16.02.2018   \n",
       "14                                     перчатки рабочие   16.02.2018   \n",
       "15                                    комплекты пластин   16.02.2018   \n",
       "16                             сухие строительные смеси   12.02.2018   \n",
       "17                              Лакокрасочная продукция   12.02.2018   \n",
       "18                         компьютерно-кассовая система   16.02.2018   \n",
       "19    Закупка отбойных молотков, пик к отбойным моло...   19.02.2018   \n",
       "20                                 Карбонат калия К2СО3   13.02.2018   \n",
       "22                               Инклинометр двухосевой   12.02.2018   \n",
       "23       Закупка запасных частей к электрическим плитам   14.02.2018   \n",
       "24                         Закупка компрессора Embraco    14.02.2018   \n",
       "25    Силовые полупроводниковые приборы (диоды, тири...   23.02.2018   \n",
       "26                  Закупка нестандартного оборудования     11-00 07   \n",
       "27                               Запасные части для ГТУ   12.02.2018   \n",
       "28                                Закупка ванны моечной   13.02.2018   \n",
       "29    Пластинчатый сгуститель ти-па LTC-3450-18F (ил...   13.03.2018   \n",
       "30         Запасные части для теплообменника Sondex A/S   12.02.2018   \n",
       "31    Сигнализаторы и аварийные выключатели с тросов...   08.02.2018   \n",
       "34                                    комплекты пластин   16.02.2018   \n",
       "35                                     перчатки рабочие   16.02.2018   \n",
       "...                                                 ...          ...   \n",
       "4168                           гидроциклонные установки   03.03.2015   \n",
       "4169                           гидроциклонные установки   03.03.2015   \n",
       "4170                           гидроциклонные установки   03.03.2015   \n",
       "4171   Краны шаровые с электроприводом Ду-300 Ру-16 МПа   18.02.2015   \n",
       "4172  Удобрение нитрат калия с антислеживателем  (со...   23.02.2015   \n",
       "4173                         Запрос ценовых предложений   11.03.2015   \n",
       "4174                     Весы аналитические электронные   26.02.2015   \n",
       "4175  Запчасти к станку ленточно-отрезному MEBA 335 ...   20.02.2015   \n",
       "4176       Заправка автотранспорта п электронным картам   26.02.2015   \n",
       "4177  Охладитель конденсата (подувочной воды) ОГ-35 ...   27.02.2015   \n",
       "4178  Закупка запасных частей (силовой гидравлики) д...   09.03.2015   \n",
       "4180               Аппарат с перемешивающим устройством   20.02.2015   \n",
       "4181                                 Подшипники по ГОСТ   09.03.2015   \n",
       "4182          Агрегаты перекачки промышленного продукта   10.03.2015   \n",
       "4183  Закупка запчастей к гидроциклонам СВП-710, СВП...   24.02.2015   \n",
       "4184         Запасные части для компрессора Aylas Copco   24.02.2015   \n",
       "4185               Закупка пневмоэжекторной флотомашины   02.03.2015   \n",
       "4186                                         Подшипники   23.02.2015   \n",
       "4187                             газообразная продукция   23.02.2015   \n",
       "4188                     Агрегаты насосные центробежные   23.02.2015   \n",
       "4189  ёмкостей для перевозки негорючих жидкостей V=1...   26.02.2015   \n",
       "4190  на закупку аппаратов для испытания изоляции си...   24.02.2015   \n",
       "4191                                  насосные агрегаты   20.02.2015   \n",
       "4192  Оборудование для технологической обработки дет...   05.03.2015   \n",
       "4193                       Барометрические конденсаторы   03.03.2015   \n",
       "4194           продукция электротехнического назначения   23.02.2015   \n",
       "4195                             Съемники механическихе   17.02.2015   \n",
       "4197                       Агрегаты насосные химические   20.02.2015   \n",
       "4198                                     Мебель офисная   16.02.2015   \n",
       "4199          Агрегаты насосные ГРАТ 225/67 или аналоги   16.02.2015   \n",
       "\n",
       "                                type  \n",
       "1         Изучение конъюнктуры рынка  \n",
       "2         Изучение конъюнктуры рынка  \n",
       "3         Изучение конъюнктуры рынка  \n",
       "4     Оформление конкурентного листа  \n",
       "5                   Открытый конкурс  \n",
       "6     Оформление конкурентного листа  \n",
       "7                         Переговоры  \n",
       "8                              Торги  \n",
       "9         Изучение конъюнктуры рынка  \n",
       "10        Изучение конъюнктуры рынка  \n",
       "13        Изучение конъюнктуры рынка  \n",
       "14        Запрос ценовых предложений  \n",
       "15        Изучение конъюнктуры рынка  \n",
       "16    Оформление конкурентного листа  \n",
       "17        Запрос ценовых предложений  \n",
       "18        Изучение конъюнктуры рынка  \n",
       "19    Оформление конкурентного листа  \n",
       "20        Запрос ценовых предложений  \n",
       "22        Изучение конъюнктуры рынка  \n",
       "23        Изучение конъюнктуры рынка  \n",
       "24        Изучение конъюнктуры рынка  \n",
       "25    Оформление конкурентного листа  \n",
       "26                  Открытый конкурс  \n",
       "27    Оформление конкурентного листа  \n",
       "28                        Переговоры  \n",
       "29                             Торги  \n",
       "30        Изучение конъюнктуры рынка  \n",
       "31        Изучение конъюнктуры рынка  \n",
       "34        Изучение конъюнктуры рынка  \n",
       "35        Запрос ценовых предложений  \n",
       "...                              ...  \n",
       "4168                           Торги  \n",
       "4169                           Торги  \n",
       "4170                      Переговоры  \n",
       "4171                      Переговоры  \n",
       "4172  Оформление конкурентного листа  \n",
       "4173                      Переговоры  \n",
       "4174                      Переговоры  \n",
       "4175      Изучение конъюнктуры рынка  \n",
       "4176      Запрос ценовых предложений  \n",
       "4177  Оформление конкурентного листа  \n",
       "4178                Открытый конкурс  \n",
       "4180                      Переговоры  \n",
       "4181                Открытый конкурс  \n",
       "4182                Открытый конкурс  \n",
       "4183      Запрос ценовых предложений  \n",
       "4184      Запрос ценовых предложений  \n",
       "4185                           Торги  \n",
       "4186      Запрос ценовых предложений  \n",
       "4187      Запрос ценовых предложений  \n",
       "4188      Запрос ценовых предложений  \n",
       "4189      Запрос ценовых предложений  \n",
       "4190      Запрос ценовых предложений  \n",
       "4191                      Переговоры  \n",
       "4192                Открытый конкурс  \n",
       "4193      Запрос ценовых предложений  \n",
       "4194  Оформление конкурентного листа  \n",
       "4195  Оформление конкурентного листа  \n",
       "4197      Запрос ценовых предложений  \n",
       "4198  Оформление конкурентного листа  \n",
       "4199                      Переговоры  \n",
       "\n",
       "[3758 rows x 3 columns]"
      ]
     },
     "execution_count": 4,
     "metadata": {},
     "output_type": "execute_result"
    }
   ],
   "source": [
    "dataset = pd.DataFrame()\n",
    "dataset['text'] = [e.text for e in ad_list]\n",
    "dataset['data_dedline'] = [e.data_dedline for e in ad_list]\n",
    "dataset['type'] = [e.type_ad for e in ad_list]\n",
    "dataset = dataset.dropna() #очистка от пропущенных значений\n",
    "dataset"
   ]
  },
  {
   "cell_type": "markdown",
   "metadata": {},
   "source": [
    "АНАЛИЗ ДАННЫХ\n",
    "---"
   ]
  },
  {
   "cell_type": "code",
   "execution_count": 5,
   "metadata": {},
   "outputs": [],
   "source": [
    "import numpy as np"
   ]
  },
  {
   "cell_type": "code",
   "execution_count": 6,
   "metadata": {},
   "outputs": [],
   "source": [
    "# Предварительно весь текст приводится к нижнему регистру\n",
    "dataset['text'] = dataset['text'].str.lower()"
   ]
  },
  {
   "cell_type": "markdown",
   "metadata": {},
   "source": [
    "## Анализ типов закупки"
   ]
  },
  {
   "cell_type": "code",
   "execution_count": 7,
   "metadata": {},
   "outputs": [
    {
     "data": {
      "text/plain": [
       "Counter({'Закупка из одного источника': 89,\n",
       "         'Запрос ценовых предложений': 786,\n",
       "         'Изучение конъюнктуры рынка': 729,\n",
       "         'Открытый конкурс': 247,\n",
       "         'Оформление конкурентного листа': 1322,\n",
       "         'Переговоры': 251,\n",
       "         'Торги': 334})"
      ]
     },
     "execution_count": 7,
     "metadata": {},
     "output_type": "execute_result"
    }
   ],
   "source": [
    "from collections import Counter\n",
    "Counter(dataset['type'])"
   ]
  },
  {
   "cell_type": "markdown",
   "metadata": {},
   "source": [
    "## Анализ текста"
   ]
  },
  {
   "cell_type": "code",
   "execution_count": 8,
   "metadata": {},
   "outputs": [],
   "source": [
    "from scipy.sparse import hstack\n",
    "from sklearn.feature_extraction.text import TfidfVectorizer"
   ]
  },
  {
   "cell_type": "code",
   "execution_count": 9,
   "metadata": {},
   "outputs": [],
   "source": [
    "corpus = dataset['text']"
   ]
  },
  {
   "cell_type": "markdown",
   "metadata": {},
   "source": [
    "#### Создание векторизатора слов и н-грамм"
   ]
  },
  {
   "cell_type": "code",
   "execution_count": 10,
   "metadata": {},
   "outputs": [
    {
     "name": "stdout",
     "output_type": "stream",
     "text": [
      "CPU times: user 1.5 s, sys: 24 ms, total: 1.53 s\n",
      "Wall time: 1.6 s\n"
     ]
    }
   ],
   "source": [
    "%%time\n",
    "word_vectorizer = TfidfVectorizer(\n",
    "    sublinear_tf=True,\n",
    "    strip_accents='unicode',\n",
    "    analyzer='word',\n",
    "    token_pattern=r'\\w{1,}',\n",
    "    ngram_range=(1, 100))\n",
    "word_vectorizer.fit(corpus)"
   ]
  },
  {
   "cell_type": "markdown",
   "metadata": {},
   "source": [
    "#### Создание векторизатора букв"
   ]
  },
  {
   "cell_type": "code",
   "execution_count": 11,
   "metadata": {},
   "outputs": [
    {
     "name": "stdout",
     "output_type": "stream",
     "text": [
      "CPU times: user 8 s, sys: 192 ms, total: 8.19 s\n",
      "Wall time: 8.2 s\n"
     ]
    }
   ],
   "source": [
    "%%time\n",
    "char_vectorizer = TfidfVectorizer(\n",
    "    sublinear_tf=True,\n",
    "    strip_accents='unicode',\n",
    "    analyzer='char',\n",
    "    ngram_range=(1, 10))\n",
    "char_vectorizer.fit(corpus)"
   ]
  },
  {
   "cell_type": "markdown",
   "metadata": {},
   "source": [
    "#### Слияние векторизаторов"
   ]
  },
  {
   "cell_type": "code",
   "execution_count": 12,
   "metadata": {},
   "outputs": [
    {
     "name": "stdout",
     "output_type": "stream",
     "text": [
      "(3758, 419496)\n",
      "CPU times: user 6.01 s, sys: 16 ms, total: 6.03 s\n",
      "Wall time: 6.03 s\n"
     ]
    }
   ],
   "source": [
    "%%time\n",
    "X = hstack([word_vectorizer.transform(corpus), char_vectorizer.transform(corpus)])\n",
    "print(X.shape)"
   ]
  },
  {
   "cell_type": "code",
   "execution_count": 13,
   "metadata": {},
   "outputs": [
    {
     "name": "stderr",
     "output_type": "stream",
     "text": [
      "/home/bv/.local/lib/python3.5/site-packages/matplotlib/collections.py:853: RuntimeWarning: invalid value encountered in sqrt\n",
      "  scale = np.sqrt(self._sizes) * dpi / 72.0 * self._factor\n"
     ]
    },
    {
     "name": "stdout",
     "output_type": "stream",
     "text": [
      "CPU times: user 8.28 s, sys: 1.24 s, total: 9.52 s\n",
      "Wall time: 6.8 s\n"
     ]
    },
    {
     "data": {
      "image/png": "[encoded data removed]",
      "text/plain": [
       "<matplotlib.figure.Figure at 0x7fbe1d94b2e8>"
      ]
     },
     "metadata": {},
     "output_type": "display_data"
    }
   ],
   "source": [
    "%%time\n",
    "from sklearn.decomposition import KernelPCA\n",
    "data_projected = KernelPCA(n_components=3, kernel='linear', random_state=42).fit_transform(X)\n",
    "\n",
    "fig, axes = plt.subplots(1, figsize=(16,6))\n",
    "plt.scatter(\n",
    "    data_projected[:, 0], data_projected[:, 1],\n",
    "    s = data_projected[:,2]*200) # коэффициент 200 - для масштабирования точек согласно 3й гл. компоненте"
   ]
  },
  {
   "cell_type": "code",
   "execution_count": 14,
   "metadata": {},
   "outputs": [
    {
     "name": "stderr",
     "output_type": "stream",
     "text": [
      "/home/bv/.local/lib/python3.5/site-packages/matplotlib/collections.py:853: RuntimeWarning: invalid value encountered in sqrt\n",
      "  scale = np.sqrt(self._sizes) * dpi / 72.0 * self._factor\n"
     ]
    },
    {
     "data": {
      "text/plain": [
       "<matplotlib.collections.PathCollection at 0x7fbe1d09b5f8>"
      ]
     },
     "execution_count": 14,
     "metadata": {},
     "output_type": "execute_result"
    },
    {
     "data": {
      "image/png": "[encoded data removed]",
      "text/plain": [
       "<matplotlib.figure.Figure at 0x7fbe192bf5f8>"
      ]
     },
     "metadata": {},
     "output_type": "display_data"
    }
   ],
   "source": [
    "from sklearn.cluster import MiniBatchKMeans\n",
    "N_CLASTERS = 50\n",
    "labels = MiniBatchKMeans(N_CLASTERS, random_state=42).fit_predict(X)\n",
    "\n",
    "fig, axes = plt.subplots(1, figsize=(16,6))\n",
    "plt.scatter(\n",
    "    data_projected[:, 0], data_projected[:, 1],\n",
    "    cmap=plt.cm.get_cmap('viridis', N_CLASTERS),\n",
    "    c = labels,\n",
    "    s = data_projected[:,2]*200) # коэффициент 200 - для масштабирования точек согласно 3й гл. компоненте"
   ]
  },
  {
   "cell_type": "code",
   "execution_count": 15,
   "metadata": {},
   "outputs": [
    {
     "data": {
      "text/plain": [
       "<matplotlib.axes._subplots.AxesSubplot at 0x7fbe194c18d0>"
      ]
     },
     "execution_count": 15,
     "metadata": {},
     "output_type": "execute_result"
    },
    {
     "data": {
      "image/png": "[encoded data removed]",
      "text/plain": [
       "<matplotlib.figure.Figure at 0x7fbe1b170470>"
      ]
     },
     "metadata": {},
     "output_type": "display_data"
    }
   ],
   "source": [
    "fig, axes = plt.subplots(1, figsize=(16,6))\n",
    "sns.barplot(\n",
    "    [i for i in range(N_CLASTERS)], \n",
    "    np.bincount(labels), \n",
    "    ax=axes, color='#309730')"
   ]
  },
  {
   "cell_type": "markdown",
   "metadata": {},
   "source": [
    "### Примеры некоторых кластеров"
   ]
  },
  {
   "cell_type": "code",
   "execution_count": 38,
   "metadata": {},
   "outputs": [
    {
     "data": {
      "text/plain": [
       "1032    запасные части для автотракторной техники\n",
       "1090     запасне части для автотракторной техники\n",
       "2063    запасные части для автотракторной техники\n",
       "2078    запасные части для автотракторной техники\n",
       "3367             ремни для автотракторной техники\n",
       "3368             ремни для автотракторной техники\n",
       "Name: text, dtype: object"
      ]
     },
     "execution_count": 38,
     "metadata": {},
     "output_type": "execute_result"
    }
   ],
   "source": [
    "corpus[labels==18]"
   ]
  },
  {
   "cell_type": "code",
   "execution_count": 39,
   "metadata": {},
   "outputs": [
    {
     "data": {
      "text/plain": [
       "523           продукция электротехнического назначения\n",
       "1181    электротехническое низковольтное оборудоование\n",
       "2096      электротехническое низковоьтное оборудование\n",
       "2496          продукция электротехнического назначения\n",
       "2686          продукция электротехнического назначения\n",
       "3061          продукция электротехнического назначения\n",
       "3690          продукция электротехнического назначения\n",
       "3691          продукция электротехнического назначения\n",
       "4194          продукция электротехнического назначения\n",
       "Name: text, dtype: object"
      ]
     },
     "execution_count": 39,
     "metadata": {},
     "output_type": "execute_result"
    }
   ],
   "source": [
    "corpus[labels==32]"
   ]
  },
  {
   "cell_type": "code",
   "execution_count": 40,
   "metadata": {},
   "outputs": [
    {
     "data": {
      "text/plain": [
       "365     оборудование для системы контроля и управления...\n",
       "463     оборудование для системы контроля и управления...\n",
       "1083               система контроля и управления доступом\n",
       "Name: text, dtype: object"
      ]
     },
     "execution_count": 40,
     "metadata": {},
     "output_type": "execute_result"
    }
   ],
   "source": [
    "corpus[labels==43]"
   ]
  },
  {
   "cell_type": "code",
   "execution_count": 41,
   "metadata": {},
   "outputs": [
    {
     "data": {
      "text/plain": [
       "67      закупка запасных частей к комбайнам пк-8ма, пк...\n",
       "1721    закупка запасных частей к комбайнам пк-8ма, пкс-8\n",
       "1724    закупка запасных частей к комбайнам пк-8ма, пкс-8\n",
       "3021    закупка запасных частей к комбайнам пк-8ма, пкс-8\n",
       "4027    закупка запасных частей к (гидравлика) к комба...\n",
       "Name: text, dtype: object"
      ]
     },
     "execution_count": 41,
     "metadata": {},
     "output_type": "execute_result"
    }
   ],
   "source": [
    "corpus[labels==49]"
   ]
  },
  {
   "cell_type": "code",
   "execution_count": null,
   "metadata": {},
   "outputs": [],
   "source": [
    "corpus[labels==18]"
   ]
  }
 ],
 "metadata": {
  "kernelspec": {
   "display_name": "Python 3",
   "language": "python",
   "name": "python3"
  },
  "language_info": {
   "codemirror_mode": {
    "name": "ipython",
    "version": 3
   },
   "file_extension": ".py",
   "mimetype": "text/x-python",
   "name": "python",
   "nbconvert_exporter": "python",
   "pygments_lexer": "ipython3",
   "version": "3.5.3"
  }
 },
 "nbformat": 4,
 "nbformat_minor": 1
}
